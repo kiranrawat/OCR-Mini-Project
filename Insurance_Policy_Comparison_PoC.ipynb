{
 "cells": [
  {
   "cell_type": "code",
   "execution_count": 0,
   "metadata": {
    "application/vnd.databricks.v1+cell": {
     "cellMetadata": {
      "byteLimit": 2048000,
      "rowLimit": 10000
     },
     "inputWidgets": {},
     "nuid": "355b723a-e930-40b9-ba96-6e01aa89f6b9",
     "showTitle": false,
     "tableResultSettingsMap": {},
     "title": ""
    }
   },
   "outputs": [],
   "source": [
    "!python -m spacy download en_core_web_sm"
   ]
  },
  {
   "cell_type": "code",
   "execution_count": 0,
   "metadata": {
    "application/vnd.databricks.v1+cell": {
     "cellMetadata": {
      "byteLimit": 2048000,
      "rowLimit": 10000
     },
     "inputWidgets": {},
     "nuid": "58df3e42-c262-4bbf-9039-fdd2b7f99b92",
     "showTitle": false,
     "tableResultSettingsMap": {},
     "title": ""
    }
   },
   "outputs": [],
   "source": [
    "from PIL import Image\n",
    "import pytesseract"
   ]
  },
  {
   "cell_type": "markdown",
   "metadata": {
    "application/vnd.databricks.v1+cell": {
     "cellMetadata": {},
     "inputWidgets": {},
     "nuid": "c07161dc-75b9-45f0-b339-c613a833f753",
     "showTitle": false,
     "tableResultSettingsMap": {},
     "title": ""
    }
   },
   "source": [
    "# Extract Text from PDF"
   ]
  },
  {
   "cell_type": "code",
   "execution_count": 0,
   "metadata": {
    "application/vnd.databricks.v1+cell": {
     "cellMetadata": {
      "byteLimit": 2048000,
      "rowLimit": 10000
     },
     "inputWidgets": {},
     "nuid": "8c829977-d2f8-4dde-afc6-bf3a1ca28fdc",
     "showTitle": false,
     "tableResultSettingsMap": {},
     "title": ""
    }
   },
   "outputs": [],
   "source": [
    "# text = pytesseract.image_to_string(Image.open('/Volumes/workspace/default/kiran_data/unstructured-data/Principal-Sample-Life-Insurance-Policy.pdf'))\n",
    "# print(text)\n",
    "\n",
    "import pdfplumber\n",
    "\n",
    "pdf_path = \"/Volumes/workspace/default/kiran_data/unstructured-data/Principal-Sample-Life-Insurance-Policy.pdf\"\n",
    "\n",
    "with pdfplumber.open(pdf_path) as pdf:\n",
    "    full_text = \"\"\n",
    "    for page in pdf.pages:\n",
    "        full_text += page.extract_text() + \"\\n\"\n",
    "\n",
    "print(full_text[:1000])  # Print first 1000 characters to verify\n"
   ]
  },
  {
   "cell_type": "markdown",
   "metadata": {
    "application/vnd.databricks.v1+cell": {
     "cellMetadata": {},
     "inputWidgets": {},
     "nuid": "8b5fd75c-546f-41bd-ac87-79957e80fedd",
     "showTitle": false,
     "tableResultSettingsMap": {},
     "title": ""
    }
   },
   "source": [
    "# Extract Key Information"
   ]
  },
  {
   "cell_type": "code",
   "execution_count": 0,
   "metadata": {
    "application/vnd.databricks.v1+cell": {
     "cellMetadata": {
      "byteLimit": 2048000,
      "rowLimit": 10000
     },
     "inputWidgets": {},
     "nuid": "866adc8d-0fbb-423d-b9a2-3232a29b2cef",
     "showTitle": false,
     "tableResultSettingsMap": {},
     "title": ""
    }
   },
   "outputs": [],
   "source": [
    "import re\n",
    "\n",
    "# Example regex patterns (adjust to actual text)\n",
    "policy_number = re.search(r'Policy Number[:\\s]+(\\w+)', full_text)\n",
    "effective_date = re.search(r'Effective Date[:\\s]+([\\w\\s,]+)', full_text)\n",
    "coverage_amount = re.search(r'Coverage Amount[:\\s]+\\$([\\d,]+)', full_text)\n",
    "\n",
    "print(\"Policy Number:\", policy_number.group(1) if policy_number else \"Not found\")\n",
    "print(\"Effective Date:\", effective_date.group(1) if effective_date else \"Not found\")\n",
    "print(\"Coverage Amount:\", coverage_amount.group(1) if coverage_amount else \"Not found\")\n"
   ]
  },
  {
   "cell_type": "code",
   "execution_count": 0,
   "metadata": {
    "application/vnd.databricks.v1+cell": {
     "cellMetadata": {
      "byteLimit": 2048000,
      "rowLimit": 10000
     },
     "inputWidgets": {},
     "nuid": "d0071a44-fb0f-4c78-a60b-1f707faba582",
     "showTitle": false,
     "tableResultSettingsMap": {},
     "title": ""
    }
   },
   "outputs": [],
   "source": [
    "import spacy\n",
    "\n",
    "nlp = spacy.load(\"en_core_web_sm\")  # or a fine-tuned model\n",
    "doc = nlp(full_text)\n",
    "\n",
    "for ent in doc.ents:\n",
    "    print(ent.text, ent.label_)\n"
   ]
  },
  {
   "cell_type": "code",
   "execution_count": 0,
   "metadata": {
    "application/vnd.databricks.v1+cell": {
     "cellMetadata": {
      "byteLimit": 2048000,
      "rowLimit": 10000
     },
     "inputWidgets": {},
     "nuid": "64e492f9-eaab-4bd4-81cd-c5a50f04df47",
     "showTitle": false,
     "tableResultSettingsMap": {},
     "title": ""
    }
   },
   "outputs": [],
   "source": [
    "doc"
   ]
  },
  {
   "cell_type": "markdown",
   "metadata": {
    "application/vnd.databricks.v1+cell": {
     "cellMetadata": {},
     "inputWidgets": {},
     "nuid": "75855780-fe9d-4a8b-89db-32ea2b87c60f",
     "showTitle": false,
     "tableResultSettingsMap": {},
     "title": ""
    }
   },
   "source": [
    "What This PoC Does\n",
    "\n",
    "Text Extraction: Reads both PDFs.\n",
    "\n",
    "NLP Extraction: Detects dates, money amounts, numbers, and organizations.\n",
    "\n",
    "Field Mapping: Converts first detected entity of each type to a structured field.\n",
    "\n",
    "Comparison: Highlights differences between the two policies."
   ]
  },
  {
   "cell_type": "code",
   "execution_count": 0,
   "metadata": {
    "application/vnd.databricks.v1+cell": {
     "cellMetadata": {
      "byteLimit": 2048000,
      "rowLimit": 10000
     },
     "inputWidgets": {},
     "nuid": "1d1aa355-75b7-4c17-8e03-08a92a8e506c",
     "showTitle": false,
     "tableResultSettingsMap": {},
     "title": ""
    }
   },
   "outputs": [],
   "source": [
    "# Step 1: Install dependencies if not already\n",
    "# pip install pdfplumber spacy pandas\n",
    "# python -m spacy download en_core_web_sm\n",
    "\n",
    "import pdfplumber\n",
    "import spacy\n",
    "import pandas as pd\n",
    "\n",
    "# Step 2: Load spaCy NLP model\n",
    "nlp = spacy.load(\"en_core_web_sm\")\n",
    "\n",
    "# Step 3: Function to extract text from PDF\n",
    "def extract_text_from_pdf(pdf_path):\n",
    "    full_text = \"\"\n",
    "    with pdfplumber.open(pdf_path) as pdf:\n",
    "        for page in pdf.pages:\n",
    "            page_text = page.extract_text()\n",
    "            if page_text:\n",
    "                full_text += page_text + \"\\n\"\n",
    "    return full_text\n",
    "\n",
    "# Step 4: Function to extract key entities using NLP\n",
    "def extract_entities(text):\n",
    "    doc = nlp(text)\n",
    "    dates, money, numbers, orgs = [], [], [], []\n",
    "    for ent in doc.ents:\n",
    "        if ent.label_ == \"DATE\":\n",
    "            dates.append(ent.text)\n",
    "        elif ent.label_ == \"MONEY\":\n",
    "            money.append(ent.text)\n",
    "        elif ent.label_ == \"CARDINAL\":\n",
    "            numbers.append(ent.text)\n",
    "        elif ent.label_ == \"ORG\":\n",
    "            orgs.append(ent.text)\n",
    "    # Map to structured fields (simple heuristic: first occurrence)\n",
    "    policy_data = {\n",
    "        \"Policy Number\": numbers[0] if numbers else None,\n",
    "        \"Effective Date\": dates[0] if dates else None,\n",
    "        \"Coverage Amount\": money[0] if money else None,\n",
    "        \"Organization\": orgs[0] if orgs else None\n",
    "    }\n",
    "    return policy_data\n",
    "\n",
    "# Step 5: Load your two policies\n",
    "pdf_1 = \"/Volumes/workspace/default/kiran_data/unstructured-data/Principal-Sample-Life-Insurance-Policy.pdf\"\n",
    "pdf_2 = \"/Volumes/workspace/default/kiran_data/unstructured-data/public-liability-policy-wording.pdf\"\n",
    "\n",
    "text_1 = extract_text_from_pdf(pdf_1)\n",
    "text_2 = extract_text_from_pdf(pdf_2)\n",
    "\n",
    "# Step 6: Extract entities from both PDFs\n",
    "data_1 = extract_entities(text_1)\n",
    "data_2 = extract_entities(text_2)\n",
    "\n",
    "# Step 7: Combine into a DataFrame for comparison\n",
    "df = pd.DataFrame([data_1, data_2], index=[\"Policy 1\", \"Policy 2\"])\n",
    "print(\"Extracted Policy Data:\\n\")\n",
    "print(df)\n",
    "\n",
    "# Step 8: Detect differences between the two policies\n",
    "print(\"\\nChanges Detected:\")\n",
    "for col in df.columns:\n",
    "    if df.loc[\"Policy 1\", col] != df.loc[\"Policy 2\", col]:\n",
    "        print(f\"{col} changed: {df.loc['Policy 1', col]} -> {df.loc['Policy 2', col]}\")\n"
   ]
  },
  {
   "cell_type": "code",
   "execution_count": 0,
   "metadata": {
    "application/vnd.databricks.v1+cell": {
     "cellMetadata": {
      "byteLimit": 2048000,
      "rowLimit": 10000
     },
     "inputWidgets": {},
     "nuid": "5fb4ce8f-997f-43ec-9c7e-4931e20bc073",
     "showTitle": false,
     "tableResultSettingsMap": {},
     "title": ""
    }
   },
   "outputs": [],
   "source": [
    "import matplotlib.pyplot as plt\n",
    "\n",
    "# --- Step 1: Create a comparison DataFrame ---\n",
    "df_compare = df.copy()\n",
    "\n",
    "# Convert coverage amounts to numeric for plotting\n",
    "def clean_coverage(value):\n",
    "    if value:\n",
    "        return float(value.replace(',', ''))\n",
    "    return 0\n",
    "\n",
    "df_compare['Coverage Amount Num'] = df_compare['Coverage Amount'].apply(clean_coverage)\n",
    "\n",
    "# --- Step 2: Bar chart for Coverage Amount ---\n",
    "plt.figure(figsize=(8,5))\n",
    "plt.bar(df_compare.index, df_compare['Coverage Amount Num'], color=['skyblue', 'orange'])\n",
    "plt.title('Coverage Amount Comparison')\n",
    "plt.ylabel('Coverage Amount ($)')\n",
    "plt.xlabel('Policy')\n",
    "plt.show()\n",
    "\n",
    "# --- Step 3: Highlight changes in a simple table ---\n",
    "print(\"\\n--- Policy Comparison Table ---\")\n",
    "for index, row in df_compare.iterrows():\n",
    "    print(f\"\\n{index}:\")\n",
    "    print(f\"  Organization    : {row['Organization']}\")\n",
    "    print(f\"  Effective Date  : {row['Effective Date']}\")\n",
    "    print(f\"  Policy Number   : {row['Policy Number']}\")\n",
    "    print(f\"  Coverage Amount : {row['Coverage Amount']}\")\n"
   ]
  }
 ],
 "metadata": {
  "application/vnd.databricks.v1+notebook": {
   "computePreferences": null,
   "dashboards": [],
   "environmentMetadata": {
    "base_environment": "",
    "environment_version": "3"
   },
   "inputWidgetPreferences": null,
   "language": "python",
   "notebookMetadata": {
    "pythonIndentUnit": 4
   },
   "notebookName": "Insurance_Policy_Comparison_PoC",
   "widgets": {}
  },
  "language_info": {
   "name": "python"
  }
 },
 "nbformat": 4,
 "nbformat_minor": 0
}
